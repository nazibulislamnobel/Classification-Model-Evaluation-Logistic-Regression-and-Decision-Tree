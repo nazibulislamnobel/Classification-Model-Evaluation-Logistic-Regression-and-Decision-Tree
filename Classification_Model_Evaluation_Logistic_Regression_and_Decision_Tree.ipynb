{
  "nbformat": 4,
  "nbformat_minor": 0,
  "metadata": {
    "colab": {
      "provenance": []
    },
    "kernelspec": {
      "name": "python3",
      "display_name": "Python 3"
    },
    "language_info": {
      "name": "python"
    }
  },
  "cells": [
    {
      "cell_type": "markdown",
      "source": [
        "#Load Dataset"
      ],
      "metadata": {
        "id": "b7vH60Py_HZo"
      }
    },
    {
      "cell_type": "code",
      "execution_count": 32,
      "metadata": {
        "colab": {
          "base_uri": "https://localhost:8080/"
        },
        "id": "b9PiDmAJyVCP",
        "outputId": "cfc23bdb-aa75-4ebe-eb8c-cf32b4833f55"
      },
      "outputs": [
        {
          "output_type": "stream",
          "name": "stdout",
          "text": [
            "First few rows of the dataset:\n",
            "   pelvic_incidence  pelvic_tilt numeric  lumbar_lordosis_angle  sacral_slope  \\\n",
            "0         63.027817            22.552586              39.609117     40.475232   \n",
            "1         39.056951            10.060991              25.015378     28.995960   \n",
            "2         68.832021            22.218482              50.092194     46.613539   \n",
            "3         69.297008            24.652878              44.311238     44.644130   \n",
            "4         49.712859             9.652075              28.317406     40.060784   \n",
            "\n",
            "   pelvic_radius  degree_spondylolisthesis     class  \n",
            "0      98.672917                 -0.254400  Abnormal  \n",
            "1     114.405425                  4.564259  Abnormal  \n",
            "2     105.985135                 -3.530317  Abnormal  \n",
            "3     101.868495                 11.211523  Abnormal  \n",
            "4     108.168725                  7.918501  Abnormal  \n",
            "\n",
            "Dataset information:\n",
            "<class 'pandas.core.frame.DataFrame'>\n",
            "RangeIndex: 310 entries, 0 to 309\n",
            "Data columns (total 7 columns):\n",
            " #   Column                    Non-Null Count  Dtype  \n",
            "---  ------                    --------------  -----  \n",
            " 0   pelvic_incidence          310 non-null    float64\n",
            " 1   pelvic_tilt numeric       310 non-null    float64\n",
            " 2   lumbar_lordosis_angle     310 non-null    float64\n",
            " 3   sacral_slope              310 non-null    float64\n",
            " 4   pelvic_radius             310 non-null    float64\n",
            " 5   degree_spondylolisthesis  310 non-null    float64\n",
            " 6   class                     310 non-null    object \n",
            "dtypes: float64(6), object(1)\n",
            "memory usage: 17.1+ KB\n",
            "None\n",
            "\n",
            "Summary statistics of the dataset:\n",
            "       pelvic_incidence  pelvic_tilt numeric  lumbar_lordosis_angle  \\\n",
            "count        310.000000           310.000000             310.000000   \n",
            "mean          60.496653            17.542822              51.930930   \n",
            "std           17.236520            10.008330              18.554064   \n",
            "min           26.147921            -6.554948              14.000000   \n",
            "25%           46.430294            10.667069              37.000000   \n",
            "50%           58.691038            16.357689              49.562398   \n",
            "75%           72.877696            22.120395              63.000000   \n",
            "max          129.834041            49.431864             125.742385   \n",
            "\n",
            "       sacral_slope  pelvic_radius  degree_spondylolisthesis  \n",
            "count    310.000000     310.000000                310.000000  \n",
            "mean      42.953831     117.920655                 26.296694  \n",
            "std       13.423102      13.317377                 37.559027  \n",
            "min       13.366931      70.082575                -11.058179  \n",
            "25%       33.347122     110.709196                  1.603727  \n",
            "50%       42.404912     118.268178                 11.767934  \n",
            "75%       52.695888     125.467674                 41.287352  \n",
            "max      121.429566     163.071041                418.543082  \n"
          ]
        }
      ],
      "source": [
        "import pandas as pd\n",
        "\n",
        "file_path = \"/content/drive/MyDrive/column_2C_weka.csv\"\n",
        "\n",
        "df = pd.read_csv(file_path)\n",
        "\n",
        "print(\"First few rows of the dataset:\")\n",
        "print(df.head())\n",
        "\n",
        "print(\"\\nDataset information:\")\n",
        "print(df.info())\n",
        "\n",
        "print(\"\\nSummary statistics of the dataset:\")\n",
        "print(df.describe())\n"
      ]
    },
    {
      "cell_type": "markdown",
      "source": [
        "#Import libraries"
      ],
      "metadata": {
        "id": "88JRYt5T_LL_"
      }
    },
    {
      "cell_type": "code",
      "source": [
        "import numpy as np\n",
        "import random\n",
        "import pandas as pd\n",
        "\n",
        "from sklearn.metrics import accuracy_score\n",
        "from sklearn.preprocessing import LabelEncoder\n",
        "from sklearn.linear_model import LogisticRegression\n",
        "\n",
        "import matplotlib.pyplot as plt\n",
        "%matplotlib inline\n",
        "import seaborn as sns\n",
        "\n",
        "from sklearn.model_selection import train_test_split\n",
        "from sklearn.tree import DecisionTreeClassifier"
      ],
      "metadata": {
        "id": "PB_7EdC70157"
      },
      "execution_count": 67,
      "outputs": []
    },
    {
      "cell_type": "markdown",
      "source": [
        "#Initialize weights and bias as 0"
      ],
      "metadata": {
        "id": "KmRfHD-C_WC6"
      }
    },
    {
      "cell_type": "code",
      "source": [
        "def weightInitialization(n_features):\n",
        "    w = np.zeros((n_features, 1))\n",
        "    b = 0\n",
        "    return w, b\n",
        ""
      ],
      "metadata": {
        "id": "AjEneoPI2Uvu"
      },
      "execution_count": 34,
      "outputs": []
    },
    {
      "cell_type": "markdown",
      "source": [
        "#Sigmoid Function"
      ],
      "metadata": {
        "id": "paeanqSj_Y4b"
      }
    },
    {
      "cell_type": "code",
      "source": [
        "def sigmoid_activation(z):\n",
        "    y = 1 / (1 + np.exp(-z))\n",
        "    return y\n",
        ""
      ],
      "metadata": {
        "id": "wdn_97H72X6H"
      },
      "execution_count": 35,
      "outputs": []
    },
    {
      "cell_type": "markdown",
      "source": [
        "#Model Optimization Function"
      ],
      "metadata": {
        "id": "q2Db_28a_dEm"
      }
    },
    {
      "cell_type": "code",
      "source": [
        "def model_optimize(w, b, X, Y):\n",
        "    m = X.shape[1]\n",
        "    Z = np.dot(w.T, X) + b\n",
        "    A = sigmoid_activation(Z)\n",
        "    cost = -1/m * np.sum(Y * np.log(A) + (1 - Y) * np.log(1 - A))\n",
        "    dz = A - Y\n",
        "    dw = 1/m * np.dot(X, dz.T)\n",
        "    db = 1/m * np.sum(dz)\n",
        "    grads = {\"dw\": dw, \"db\": db}\n",
        "    return grads, cost\n",
        ""
      ],
      "metadata": {
        "id": "BfmCWJiG2f6E"
      },
      "execution_count": 36,
      "outputs": []
    },
    {
      "cell_type": "markdown",
      "source": [
        "#Model Optimization"
      ],
      "metadata": {
        "id": "SjCVv46F_fv8"
      }
    },
    {
      "cell_type": "code",
      "source": [
        "def model_fit(w, b, X, Y, learning_rate, no_iterations):\n",
        "    costs = []\n",
        "    for i in range(no_iterations):\n",
        "        grads, cost = model_optimize(w, b, X, Y)\n",
        "        dw = grads[\"dw\"]\n",
        "        db = grads[\"db\"]\n",
        "        w = w - learning_rate * dw\n",
        "        b = b - learning_rate * db\n",
        "        if i % 10 == 0:\n",
        "            costs.append(cost)\n",
        "    parameters = {\"w\": w, \"b\": b}\n",
        "    return parameters, costs\n"
      ],
      "metadata": {
        "id": "346gB36A2seN"
      },
      "execution_count": 37,
      "outputs": []
    },
    {
      "cell_type": "code",
      "source": [
        "X = df.iloc[:, :-1].values\n",
        "Y = df.iloc[:, -1].values\n",
        "\n",
        "label_encoder = LabelEncoder()\n",
        "Y_encoded = label_encoder.fit_transform(Y)\n"
      ],
      "metadata": {
        "id": "l_u_BRQj51ju"
      },
      "execution_count": 39,
      "outputs": []
    },
    {
      "cell_type": "markdown",
      "source": [
        "#Use logistic regression for dataset"
      ],
      "metadata": {
        "id": "3Zxk1l9w_mot"
      }
    },
    {
      "cell_type": "code",
      "source": [
        "#Split the data into training and testing sets (70:30 ratio)\n",
        "X_train, X_test, Y_train, Y_test = train_test_split(X, Y_encoded, test_size=0.3, random_state=42)\n",
        "\n",
        "Y_train = Y_train.reshape(-1, 1)\n",
        "Y_test = Y_test.reshape(-1, 1)\n",
        "\n",
        "Y_train = np.array(Y_train, dtype=float)\n",
        "Y_test = np.array(Y_test, dtype=float)\n",
        "\n",
        "#Initialize weights and bias\n",
        "n_features = X_train.shape[1]\n",
        "w_init, b_init = weightInitialization(n_features)\n",
        "\n",
        "learning_rate = 0.01\n",
        "epochs = 1000\n",
        "\n",
        "#Train the model\n",
        "parameters, costs = model_fit(w_init, b_init, X_train.T, Y_train.T, learning_rate, epochs)\n",
        "\n",
        "#Retrieve the optimized weights and bias\n",
        "w_optimized = parameters[\"w\"]\n",
        "b_optimized = parameters[\"b\"]\n",
        "\n",
        "#Make predictions on the test set\n",
        "Z_test = np.dot(w_optimized.T, X_test.T) + b_optimized\n",
        "A_test = sigmoid_activation(Z_test)\n",
        "predictions = (A_test > 0.5).astype(float)  # Convert probabilities to binary predictions (0 or 1)\n",
        "\n",
        "#Calculate the accuracy score\n",
        "accuracy = accuracy_score(Y_test, predictions.T)\n",
        "print(\"Accuracy: {:.2%}\".format(accuracy))"
      ],
      "metadata": {
        "colab": {
          "base_uri": "https://localhost:8080/"
        },
        "id": "E4_VKSSQ279b",
        "outputId": "845e4e8d-bd8e-4b26-eabc-e5aff83f2187"
      },
      "execution_count": 41,
      "outputs": [
        {
          "output_type": "stream",
          "name": "stdout",
          "text": [
            "Accuracy: 77.42%\n"
          ]
        },
        {
          "output_type": "stream",
          "name": "stderr",
          "text": [
            "<ipython-input-36-9b8cb877c189>:5: RuntimeWarning: divide by zero encountered in log\n",
            "  cost = -1/m * np.sum(Y * np.log(A) + (1 - Y) * np.log(1 - A))\n",
            "<ipython-input-36-9b8cb877c189>:5: RuntimeWarning: invalid value encountered in multiply\n",
            "  cost = -1/m * np.sum(Y * np.log(A) + (1 - Y) * np.log(1 - A))\n",
            "<ipython-input-35-a7836800c18b>:2: RuntimeWarning: overflow encountered in exp\n",
            "  y = 1 / (1 + np.exp(-z))\n"
          ]
        }
      ]
    },
    {
      "cell_type": "markdown",
      "source": [
        "#Plot the cost for each epoch"
      ],
      "metadata": {
        "id": "nMnXJ6VD_qKF"
      }
    },
    {
      "cell_type": "code",
      "source": [
        "plt.plot(range(len(costs)), costs, marker='o', linestyle='-')\n",
        "plt.title('Cost vs. Epoch')\n",
        "plt.xlabel('Epoch')\n",
        "plt.ylabel('Cost')\n",
        "plt.show()"
      ],
      "metadata": {
        "colab": {
          "base_uri": "https://localhost:8080/",
          "height": 472
        },
        "id": "Pv4dng6r4baF",
        "outputId": "604328f2-145f-44eb-b102-5a9b3ed07cea"
      },
      "execution_count": 44,
      "outputs": [
        {
          "output_type": "display_data",
          "data": {
            "text/plain": [
              "<Figure size 640x480 with 1 Axes>"
            ],
            "image/png": "[encoded data removed]"
          },
          "metadata": {}
        }
      ]
    },
    {
      "cell_type": "markdown",
      "source": [
        "#Smaller portion of training data"
      ],
      "metadata": {
        "id": "Td2Ew56Y_tIQ"
      }
    },
    {
      "cell_type": "code",
      "source": [
        "percentage_list = [0.1, 0.2, 0.3, 0.4, 0.5, 0.6, 0.7, 0.8, 0.9]\n",
        "\n",
        "for percentage in percentage_list:\n",
        "    X_train, X_test, Y_train, Y_test = train_test_split(X, Y_encoded, test_size=(1 - percentage), random_state=42)\n",
        "\n",
        "    Y_train = Y_train.reshape(-1, 1)\n",
        "    Y_test = Y_test.reshape(-1, 1)\n",
        "\n",
        "    Y_train = np.array(Y_train, dtype=float)\n",
        "    Y_test = np.array(Y_test, dtype=float)\n",
        "\n",
        "    parameters, _ = model_fit(w_init, b_init, X_train.T, Y_train.T, learning_rate, epochs)\n",
        "\n",
        "    w_optimized = parameters[\"w\"]\n",
        "    b_optimized = parameters[\"b\"]\n",
        "\n",
        "    Z_test = np.dot(w_optimized.T, X_test.T) + b_optimized\n",
        "    A_test = sigmoid_activation(Z_test)\n",
        "    predictions = (A_test > 0.5).astype(float)\n",
        "\n",
        "    accuracy = accuracy_score(Y_test, predictions.T)\n",
        "    print(\"Accuracy with {}% of training data: {:.2%}\".format(int(percentage * 100), accuracy))"
      ],
      "metadata": {
        "colab": {
          "base_uri": "https://localhost:8080/"
        },
        "id": "rSDdRGnd6ZPE",
        "outputId": "f1f891be-e4f0-48f8-f62f-d25c8eb12c58"
      },
      "execution_count": 46,
      "outputs": [
        {
          "output_type": "stream",
          "name": "stderr",
          "text": [
            "<ipython-input-36-9b8cb877c189>:5: RuntimeWarning: divide by zero encountered in log\n",
            "  cost = -1/m * np.sum(Y * np.log(A) + (1 - Y) * np.log(1 - A))\n",
            "<ipython-input-36-9b8cb877c189>:5: RuntimeWarning: invalid value encountered in multiply\n",
            "  cost = -1/m * np.sum(Y * np.log(A) + (1 - Y) * np.log(1 - A))\n",
            "<ipython-input-36-9b8cb877c189>:5: RuntimeWarning: divide by zero encountered in log\n",
            "  cost = -1/m * np.sum(Y * np.log(A) + (1 - Y) * np.log(1 - A))\n",
            "<ipython-input-36-9b8cb877c189>:5: RuntimeWarning: invalid value encountered in multiply\n",
            "  cost = -1/m * np.sum(Y * np.log(A) + (1 - Y) * np.log(1 - A))\n"
          ]
        },
        {
          "output_type": "stream",
          "name": "stdout",
          "text": [
            "Accuracy with 10% of training data: 78.14%\n",
            "Accuracy with 20% of training data: 75.00%\n"
          ]
        },
        {
          "output_type": "stream",
          "name": "stderr",
          "text": [
            "<ipython-input-36-9b8cb877c189>:5: RuntimeWarning: divide by zero encountered in log\n",
            "  cost = -1/m * np.sum(Y * np.log(A) + (1 - Y) * np.log(1 - A))\n",
            "<ipython-input-36-9b8cb877c189>:5: RuntimeWarning: invalid value encountered in multiply\n",
            "  cost = -1/m * np.sum(Y * np.log(A) + (1 - Y) * np.log(1 - A))\n",
            "<ipython-input-36-9b8cb877c189>:5: RuntimeWarning: divide by zero encountered in log\n",
            "  cost = -1/m * np.sum(Y * np.log(A) + (1 - Y) * np.log(1 - A))\n",
            "<ipython-input-36-9b8cb877c189>:5: RuntimeWarning: invalid value encountered in multiply\n",
            "  cost = -1/m * np.sum(Y * np.log(A) + (1 - Y) * np.log(1 - A))\n"
          ]
        },
        {
          "output_type": "stream",
          "name": "stdout",
          "text": [
            "Accuracy with 30% of training data: 76.50%\n",
            "Accuracy with 40% of training data: 79.03%\n"
          ]
        },
        {
          "output_type": "stream",
          "name": "stderr",
          "text": [
            "<ipython-input-35-a7836800c18b>:2: RuntimeWarning: overflow encountered in exp\n",
            "  y = 1 / (1 + np.exp(-z))\n",
            "<ipython-input-36-9b8cb877c189>:5: RuntimeWarning: divide by zero encountered in log\n",
            "  cost = -1/m * np.sum(Y * np.log(A) + (1 - Y) * np.log(1 - A))\n",
            "<ipython-input-36-9b8cb877c189>:5: RuntimeWarning: invalid value encountered in multiply\n",
            "  cost = -1/m * np.sum(Y * np.log(A) + (1 - Y) * np.log(1 - A))\n",
            "<ipython-input-35-a7836800c18b>:2: RuntimeWarning: overflow encountered in exp\n",
            "  y = 1 / (1 + np.exp(-z))\n",
            "<ipython-input-36-9b8cb877c189>:5: RuntimeWarning: divide by zero encountered in log\n",
            "  cost = -1/m * np.sum(Y * np.log(A) + (1 - Y) * np.log(1 - A))\n",
            "<ipython-input-36-9b8cb877c189>:5: RuntimeWarning: invalid value encountered in multiply\n",
            "  cost = -1/m * np.sum(Y * np.log(A) + (1 - Y) * np.log(1 - A))\n",
            "<ipython-input-35-a7836800c18b>:2: RuntimeWarning: overflow encountered in exp\n",
            "  y = 1 / (1 + np.exp(-z))\n",
            "<ipython-input-36-9b8cb877c189>:5: RuntimeWarning: divide by zero encountered in log\n",
            "  cost = -1/m * np.sum(Y * np.log(A) + (1 - Y) * np.log(1 - A))\n",
            "<ipython-input-36-9b8cb877c189>:5: RuntimeWarning: invalid value encountered in multiply\n",
            "  cost = -1/m * np.sum(Y * np.log(A) + (1 - Y) * np.log(1 - A))\n",
            "<ipython-input-35-a7836800c18b>:2: RuntimeWarning: overflow encountered in exp\n",
            "  y = 1 / (1 + np.exp(-z))\n"
          ]
        },
        {
          "output_type": "stream",
          "name": "stdout",
          "text": [
            "Accuracy with 50% of training data: 78.71%\n",
            "Accuracy with 60% of training data: 77.42%\n",
            "Accuracy with 70% of training data: 76.60%\n",
            "Accuracy with 80% of training data: 80.65%\n"
          ]
        },
        {
          "output_type": "stream",
          "name": "stderr",
          "text": [
            "<ipython-input-36-9b8cb877c189>:5: RuntimeWarning: divide by zero encountered in log\n",
            "  cost = -1/m * np.sum(Y * np.log(A) + (1 - Y) * np.log(1 - A))\n",
            "<ipython-input-36-9b8cb877c189>:5: RuntimeWarning: invalid value encountered in multiply\n",
            "  cost = -1/m * np.sum(Y * np.log(A) + (1 - Y) * np.log(1 - A))\n",
            "<ipython-input-35-a7836800c18b>:2: RuntimeWarning: overflow encountered in exp\n",
            "  y = 1 / (1 + np.exp(-z))\n",
            "<ipython-input-36-9b8cb877c189>:5: RuntimeWarning: divide by zero encountered in log\n",
            "  cost = -1/m * np.sum(Y * np.log(A) + (1 - Y) * np.log(1 - A))\n",
            "<ipython-input-36-9b8cb877c189>:5: RuntimeWarning: invalid value encountered in multiply\n",
            "  cost = -1/m * np.sum(Y * np.log(A) + (1 - Y) * np.log(1 - A))\n",
            "<ipython-input-35-a7836800c18b>:2: RuntimeWarning: overflow encountered in exp\n",
            "  y = 1 / (1 + np.exp(-z))\n"
          ]
        },
        {
          "output_type": "stream",
          "name": "stdout",
          "text": [
            "Accuracy with 90% of training data: 80.65%\n"
          ]
        }
      ]
    },
    {
      "cell_type": "markdown",
      "source": [
        "#L1 L2 Regularization"
      ],
      "metadata": {
        "id": "bmGe2EoP_10M"
      }
    },
    {
      "cell_type": "code",
      "source": [
        "def model_optimize(w, b, X, Y, reg=None, lambda_val=0.1):\n",
        "    m = X.shape[1]\n",
        "\n",
        "    #Get the Prediction\n",
        "    Z = np.dot(w.T, X) + b\n",
        "    A = sigmoid_activation(Z)\n",
        "\n",
        "    #Find the cost/loss\n",
        "    cross_entropy_loss = -1/m * np.sum(Y * np.log(A) + (1 - Y) * np.log(1 - A))\n",
        "\n",
        "    #Regularization term\n",
        "    if reg == \"L1\":\n",
        "        regularization_term = (lambda_val / (2 * m)) * np.sum(np.abs(w))\n",
        "    elif reg == \"L2\":\n",
        "        regularization_term = (lambda_val / (2 * m)) * np.sum(w ** 2)\n",
        "    else:\n",
        "        regularization_term = 0\n",
        "\n",
        "    cost = cross_entropy_loss + regularization_term\n",
        "\n",
        "    #Calculate the gradients\n",
        "    dz = A - Y\n",
        "    dw = 1/m * np.dot(X, dz.T) + (lambda_val / m) * np.sign(w) if reg == \"L1\" else (lambda_val / m) * w\n",
        "    db = 1/m * np.sum(dz)\n",
        "\n",
        "    grads = {\"dw\": dw, \"db\": db}\n",
        "\n",
        "    return grads, cost\n"
      ],
      "metadata": {
        "id": "gwh3NpMj7hNi"
      },
      "execution_count": 59,
      "outputs": []
    },
    {
      "cell_type": "markdown",
      "source": [
        "#Accuracy change with regularization"
      ],
      "metadata": {
        "id": "WxzHJg00_4pS"
      }
    },
    {
      "cell_type": "code",
      "source": [
        "epochs_list = [100, 500, 1000]\n",
        "reg_types = [None, \"L1\", \"L2\"]\n",
        "lambda_values = [0.01, 0.1, 1.0]\n",
        "\n",
        "results_df = pd.DataFrame(columns=[\"Epochs\", \"Regularization Type\", \"Lambda\", \"Test Accuracy\"])\n",
        "\n",
        "for epochs in epochs_list:\n",
        "    for reg_type in reg_types:\n",
        "        for lambda_val in lambda_values:\n",
        "\n",
        "            n_features = X_train.shape[1]\n",
        "            w_init, b_init = weightInitialization(n_features)\n",
        "\n",
        "            parameters, _ = model_fit(w_init, b_init, X_train.T, Y_train.T, learning_rate=0.01, no_iterations=epochs)\n",
        "\n",
        "            w_optimized = parameters[\"w\"]\n",
        "            b_optimized = parameters[\"b\"]\n",
        "\n",
        "            Z_test = np.dot(w_optimized.T, X_test.T) + b_optimized\n",
        "            A_test = sigmoid_activation(Z_test)\n",
        "            predictions = (A_test > 0.5).astype(float)\n",
        "\n",
        "            accuracy = accuracy_score(Y_test, predictions.T)\n",
        "\n",
        "            results_df = results_df.append({\"Epochs\": epochs, \"Regularization Type\": reg_type, \"Lambda\": lambda_val, \"Test Accuracy\": accuracy}, ignore_index=True)\n",
        "\n",
        "print(results_df)"
      ],
      "metadata": {
        "colab": {
          "base_uri": "https://localhost:8080/"
        },
        "id": "58BbBvCt8hya",
        "outputId": "459a185a-f265-4b34-e2ca-657bee62519e"
      },
      "execution_count": 61,
      "outputs": [
        {
          "output_type": "stream",
          "name": "stderr",
          "text": [
            "<ipython-input-61-28abc3c52f61>:25: FutureWarning: The frame.append method is deprecated and will be removed from pandas in a future version. Use pandas.concat instead.\n",
            "  results_df = results_df.append({\"Epochs\": epochs, \"Regularization Type\": reg_type, \"Lambda\": lambda_val, \"Test Accuracy\": accuracy}, ignore_index=True)\n",
            "<ipython-input-61-28abc3c52f61>:25: FutureWarning: The frame.append method is deprecated and will be removed from pandas in a future version. Use pandas.concat instead.\n",
            "  results_df = results_df.append({\"Epochs\": epochs, \"Regularization Type\": reg_type, \"Lambda\": lambda_val, \"Test Accuracy\": accuracy}, ignore_index=True)\n",
            "<ipython-input-61-28abc3c52f61>:25: FutureWarning: The frame.append method is deprecated and will be removed from pandas in a future version. Use pandas.concat instead.\n",
            "  results_df = results_df.append({\"Epochs\": epochs, \"Regularization Type\": reg_type, \"Lambda\": lambda_val, \"Test Accuracy\": accuracy}, ignore_index=True)\n",
            "<ipython-input-61-28abc3c52f61>:25: FutureWarning: The frame.append method is deprecated and will be removed from pandas in a future version. Use pandas.concat instead.\n",
            "  results_df = results_df.append({\"Epochs\": epochs, \"Regularization Type\": reg_type, \"Lambda\": lambda_val, \"Test Accuracy\": accuracy}, ignore_index=True)\n",
            "<ipython-input-61-28abc3c52f61>:25: FutureWarning: The frame.append method is deprecated and will be removed from pandas in a future version. Use pandas.concat instead.\n",
            "  results_df = results_df.append({\"Epochs\": epochs, \"Regularization Type\": reg_type, \"Lambda\": lambda_val, \"Test Accuracy\": accuracy}, ignore_index=True)\n",
            "<ipython-input-61-28abc3c52f61>:25: FutureWarning: The frame.append method is deprecated and will be removed from pandas in a future version. Use pandas.concat instead.\n",
            "  results_df = results_df.append({\"Epochs\": epochs, \"Regularization Type\": reg_type, \"Lambda\": lambda_val, \"Test Accuracy\": accuracy}, ignore_index=True)\n",
            "<ipython-input-61-28abc3c52f61>:25: FutureWarning: The frame.append method is deprecated and will be removed from pandas in a future version. Use pandas.concat instead.\n",
            "  results_df = results_df.append({\"Epochs\": epochs, \"Regularization Type\": reg_type, \"Lambda\": lambda_val, \"Test Accuracy\": accuracy}, ignore_index=True)\n",
            "<ipython-input-61-28abc3c52f61>:25: FutureWarning: The frame.append method is deprecated and will be removed from pandas in a future version. Use pandas.concat instead.\n",
            "  results_df = results_df.append({\"Epochs\": epochs, \"Regularization Type\": reg_type, \"Lambda\": lambda_val, \"Test Accuracy\": accuracy}, ignore_index=True)\n",
            "<ipython-input-61-28abc3c52f61>:25: FutureWarning: The frame.append method is deprecated and will be removed from pandas in a future version. Use pandas.concat instead.\n",
            "  results_df = results_df.append({\"Epochs\": epochs, \"Regularization Type\": reg_type, \"Lambda\": lambda_val, \"Test Accuracy\": accuracy}, ignore_index=True)\n",
            "<ipython-input-61-28abc3c52f61>:25: FutureWarning: The frame.append method is deprecated and will be removed from pandas in a future version. Use pandas.concat instead.\n",
            "  results_df = results_df.append({\"Epochs\": epochs, \"Regularization Type\": reg_type, \"Lambda\": lambda_val, \"Test Accuracy\": accuracy}, ignore_index=True)\n",
            "<ipython-input-61-28abc3c52f61>:25: FutureWarning: The frame.append method is deprecated and will be removed from pandas in a future version. Use pandas.concat instead.\n",
            "  results_df = results_df.append({\"Epochs\": epochs, \"Regularization Type\": reg_type, \"Lambda\": lambda_val, \"Test Accuracy\": accuracy}, ignore_index=True)\n",
            "<ipython-input-61-28abc3c52f61>:25: FutureWarning: The frame.append method is deprecated and will be removed from pandas in a future version. Use pandas.concat instead.\n",
            "  results_df = results_df.append({\"Epochs\": epochs, \"Regularization Type\": reg_type, \"Lambda\": lambda_val, \"Test Accuracy\": accuracy}, ignore_index=True)\n",
            "<ipython-input-61-28abc3c52f61>:25: FutureWarning: The frame.append method is deprecated and will be removed from pandas in a future version. Use pandas.concat instead.\n",
            "  results_df = results_df.append({\"Epochs\": epochs, \"Regularization Type\": reg_type, \"Lambda\": lambda_val, \"Test Accuracy\": accuracy}, ignore_index=True)\n",
            "<ipython-input-61-28abc3c52f61>:25: FutureWarning: The frame.append method is deprecated and will be removed from pandas in a future version. Use pandas.concat instead.\n",
            "  results_df = results_df.append({\"Epochs\": epochs, \"Regularization Type\": reg_type, \"Lambda\": lambda_val, \"Test Accuracy\": accuracy}, ignore_index=True)\n",
            "<ipython-input-61-28abc3c52f61>:25: FutureWarning: The frame.append method is deprecated and will be removed from pandas in a future version. Use pandas.concat instead.\n",
            "  results_df = results_df.append({\"Epochs\": epochs, \"Regularization Type\": reg_type, \"Lambda\": lambda_val, \"Test Accuracy\": accuracy}, ignore_index=True)\n",
            "<ipython-input-61-28abc3c52f61>:25: FutureWarning: The frame.append method is deprecated and will be removed from pandas in a future version. Use pandas.concat instead.\n",
            "  results_df = results_df.append({\"Epochs\": epochs, \"Regularization Type\": reg_type, \"Lambda\": lambda_val, \"Test Accuracy\": accuracy}, ignore_index=True)\n",
            "<ipython-input-61-28abc3c52f61>:25: FutureWarning: The frame.append method is deprecated and will be removed from pandas in a future version. Use pandas.concat instead.\n",
            "  results_df = results_df.append({\"Epochs\": epochs, \"Regularization Type\": reg_type, \"Lambda\": lambda_val, \"Test Accuracy\": accuracy}, ignore_index=True)\n",
            "<ipython-input-61-28abc3c52f61>:25: FutureWarning: The frame.append method is deprecated and will be removed from pandas in a future version. Use pandas.concat instead.\n",
            "  results_df = results_df.append({\"Epochs\": epochs, \"Regularization Type\": reg_type, \"Lambda\": lambda_val, \"Test Accuracy\": accuracy}, ignore_index=True)\n",
            "<ipython-input-61-28abc3c52f61>:25: FutureWarning: The frame.append method is deprecated and will be removed from pandas in a future version. Use pandas.concat instead.\n",
            "  results_df = results_df.append({\"Epochs\": epochs, \"Regularization Type\": reg_type, \"Lambda\": lambda_val, \"Test Accuracy\": accuracy}, ignore_index=True)\n",
            "<ipython-input-61-28abc3c52f61>:25: FutureWarning: The frame.append method is deprecated and will be removed from pandas in a future version. Use pandas.concat instead.\n",
            "  results_df = results_df.append({\"Epochs\": epochs, \"Regularization Type\": reg_type, \"Lambda\": lambda_val, \"Test Accuracy\": accuracy}, ignore_index=True)\n",
            "<ipython-input-61-28abc3c52f61>:25: FutureWarning: The frame.append method is deprecated and will be removed from pandas in a future version. Use pandas.concat instead.\n",
            "  results_df = results_df.append({\"Epochs\": epochs, \"Regularization Type\": reg_type, \"Lambda\": lambda_val, \"Test Accuracy\": accuracy}, ignore_index=True)\n",
            "<ipython-input-61-28abc3c52f61>:25: FutureWarning: The frame.append method is deprecated and will be removed from pandas in a future version. Use pandas.concat instead.\n",
            "  results_df = results_df.append({\"Epochs\": epochs, \"Regularization Type\": reg_type, \"Lambda\": lambda_val, \"Test Accuracy\": accuracy}, ignore_index=True)\n",
            "<ipython-input-61-28abc3c52f61>:25: FutureWarning: The frame.append method is deprecated and will be removed from pandas in a future version. Use pandas.concat instead.\n",
            "  results_df = results_df.append({\"Epochs\": epochs, \"Regularization Type\": reg_type, \"Lambda\": lambda_val, \"Test Accuracy\": accuracy}, ignore_index=True)\n",
            "<ipython-input-61-28abc3c52f61>:25: FutureWarning: The frame.append method is deprecated and will be removed from pandas in a future version. Use pandas.concat instead.\n",
            "  results_df = results_df.append({\"Epochs\": epochs, \"Regularization Type\": reg_type, \"Lambda\": lambda_val, \"Test Accuracy\": accuracy}, ignore_index=True)\n"
          ]
        },
        {
          "output_type": "stream",
          "name": "stdout",
          "text": [
            "    Epochs Regularization Type  Lambda  Test Accuracy\n",
            "0    100.0                 NaN    0.01       0.741935\n",
            "1    100.0                 NaN    0.10       0.741935\n",
            "2    100.0                 NaN    1.00       0.741935\n",
            "3    100.0                  L1    0.01       0.741935\n",
            "4    100.0                  L1    0.10       0.741935\n",
            "5    100.0                  L1    1.00       0.741935\n",
            "6    100.0                  L2    0.01       0.741935\n",
            "7    100.0                  L2    0.10       0.741935\n",
            "8    100.0                  L2    1.00       0.741935\n",
            "9    500.0                 NaN    0.01       0.741935\n",
            "10   500.0                 NaN    0.10       0.741935\n",
            "11   500.0                 NaN    1.00       0.741935\n",
            "12   500.0                  L1    0.01       0.741935\n",
            "13   500.0                  L1    0.10       0.741935\n",
            "14   500.0                  L1    1.00       0.741935\n",
            "15   500.0                  L2    0.01       0.741935\n",
            "16   500.0                  L2    0.10       0.741935\n",
            "17   500.0                  L2    1.00       0.741935\n",
            "18  1000.0                 NaN    0.01       0.741935\n",
            "19  1000.0                 NaN    0.10       0.741935\n",
            "20  1000.0                 NaN    1.00       0.741935\n",
            "21  1000.0                  L1    0.01       0.741935\n",
            "22  1000.0                  L1    0.10       0.741935\n",
            "23  1000.0                  L1    1.00       0.741935\n",
            "24  1000.0                  L2    0.01       0.741935\n",
            "25  1000.0                  L2    0.10       0.741935\n",
            "26  1000.0                  L2    1.00       0.741935\n"
          ]
        },
        {
          "output_type": "stream",
          "name": "stderr",
          "text": [
            "<ipython-input-61-28abc3c52f61>:25: FutureWarning: The frame.append method is deprecated and will be removed from pandas in a future version. Use pandas.concat instead.\n",
            "  results_df = results_df.append({\"Epochs\": epochs, \"Regularization Type\": reg_type, \"Lambda\": lambda_val, \"Test Accuracy\": accuracy}, ignore_index=True)\n",
            "<ipython-input-61-28abc3c52f61>:25: FutureWarning: The frame.append method is deprecated and will be removed from pandas in a future version. Use pandas.concat instead.\n",
            "  results_df = results_df.append({\"Epochs\": epochs, \"Regularization Type\": reg_type, \"Lambda\": lambda_val, \"Test Accuracy\": accuracy}, ignore_index=True)\n",
            "<ipython-input-61-28abc3c52f61>:25: FutureWarning: The frame.append method is deprecated and will be removed from pandas in a future version. Use pandas.concat instead.\n",
            "  results_df = results_df.append({\"Epochs\": epochs, \"Regularization Type\": reg_type, \"Lambda\": lambda_val, \"Test Accuracy\": accuracy}, ignore_index=True)\n"
          ]
        }
      ]
    },
    {
      "cell_type": "markdown",
      "source": [
        "#Logistic Regression Class from sklearn library"
      ],
      "metadata": {
        "id": "stRc8_CG_79f"
      }
    },
    {
      "cell_type": "code",
      "source": [
        "logreg_model = LogisticRegression()\n",
        "\n",
        "logreg_model.fit(X_train, Y_train)\n",
        "\n",
        "predictions = logreg_model.predict(X_test)\n",
        "\n",
        "accuracy = accuracy_score(Y_test, predictions)\n",
        "print(\"Accuracy using Logistic Regression from sklearn: {:.2%}\".format(accuracy))"
      ],
      "metadata": {
        "colab": {
          "base_uri": "https://localhost:8080/"
        },
        "id": "lHKHVH4Y9093",
        "outputId": "44faeceb-213e-4db8-f6b6-2f37b8c4d9ea"
      },
      "execution_count": 66,
      "outputs": [
        {
          "output_type": "stream",
          "name": "stdout",
          "text": [
            "Accuracy using Logistic Regression from sklearn: 87.10%\n"
          ]
        },
        {
          "output_type": "stream",
          "name": "stderr",
          "text": [
            "/usr/local/lib/python3.10/dist-packages/sklearn/utils/validation.py:1143: DataConversionWarning: A column-vector y was passed when a 1d array was expected. Please change the shape of y to (n_samples, ), for example using ravel().\n",
            "  y = column_or_1d(y, warn=True)\n"
          ]
        }
      ]
    },
    {
      "cell_type": "markdown",
      "source": [
        "#Decision Trees from sklearn library"
      ],
      "metadata": {
        "id": "MQMKAsAL_-kF"
      }
    },
    {
      "cell_type": "code",
      "source": [
        "decision_tree_model = DecisionTreeClassifier()\n",
        "\n",
        "decision_tree_model.fit(X_train, Y_train)\n",
        "\n",
        "predictions = decision_tree_model.predict(X_test)\n",
        "\n",
        "accuracy = accuracy_score(Y_test, predictions)\n",
        "print(\"Accuracy using Decision Tree from sklearn: {:.2%}\".format(accuracy))"
      ],
      "metadata": {
        "colab": {
          "base_uri": "https://localhost:8080/"
        },
        "id": "_zlCDzGx-S3M",
        "outputId": "65c74e80-e315-433b-c4e4-d064c8886446"
      },
      "execution_count": 69,
      "outputs": [
        {
          "output_type": "stream",
          "name": "stdout",
          "text": [
            "Accuracy using Decision Tree from sklearn: 83.87%\n"
          ]
        }
      ]
    }
  ]
}